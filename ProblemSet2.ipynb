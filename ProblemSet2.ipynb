{
 "cells": [
  {
   "cell_type": "markdown",
   "id": "0bcd9148",
   "metadata": {},
   "source": [
    "# Problem Set 2"
   ]
  },
  {
   "cell_type": "markdown",
   "id": "e3b63e84",
   "metadata": {},
   "source": [
    "## Question 1"
   ]
  },
  {
   "cell_type": "code",
   "execution_count": 1,
   "id": "e01ebe08",
   "metadata": {},
   "outputs": [
    {
     "name": "stdout",
     "output_type": "stream",
     "text": [
      "2\n",
      "4\n",
      "6\n"
     ]
    }
   ],
   "source": [
    "a = 0\n",
    "\n",
    "def b():\n",
    "    global a\n",
    "    a = c(a)\n",
    "\n",
    "def c(a):\n",
    "    return a + 2\n",
    "\n",
    "b()\n",
    "print(a) \n",
    "\n",
    "b()\n",
    "print(a) \n",
    "\n",
    "b()\n",
    "print(a)"
   ]
  },
  {
   "cell_type": "markdown",
   "id": "3fab9c8a",
   "metadata": {},
   "source": [
    "## Question 2"
   ]
  },
  {
   "cell_type": "code",
   "execution_count": 14,
   "id": "cdc7f32d",
   "metadata": {},
   "outputs": [
    {
     "name": "stdout",
     "output_type": "stream",
     "text": [
      "File midterm.txt not found.\n"
     ]
    },
    {
     "data": {
      "text/plain": [
       "101"
      ]
     },
     "execution_count": 14,
     "metadata": {},
     "output_type": "execute_result"
    }
   ],
   "source": [
    "def fileLength(filename):\n",
    "    try:\n",
    "        infile = open(filename, 'r')\n",
    "        contents = infile.read()\n",
    "        length = len(contents)\n",
    "        infile.close()\n",
    "        return length\n",
    "    except FileNotFoundError:\n",
    "        print(f\"File {filename} not found.\")\n",
    "\n",
    "fileLength('midterm.txt')\n",
    "fileLength('bloodtype1.txt')"
   ]
  },
  {
   "cell_type": "markdown",
   "id": "ac57bb90",
   "metadata": {},
   "source": [
    "## Question 3"
   ]
  },
  {
   "cell_type": "code",
   "execution_count": 16,
   "id": "0140a786",
   "metadata": {},
   "outputs": [
    {
     "name": "stdout",
     "output_type": "stream",
     "text": [
      "The contents in the pouch of Marsupial are:  ['apple', 'banana']\n",
      "\n",
      "The contents in the pouch of Kangaroo are:  ['candy', 'carrot', 'ball']\n",
      "\n",
      " I am a Kangaroo located at coordinates (4,8)\n"
     ]
    }
   ],
   "source": [
    "class Marsupial:\n",
    "    def __init__(self):\n",
    "        self.pouch = []\n",
    "\n",
    "    def put_in_pouch(self, item):\n",
    "        self.pouch.append(item)\n",
    "\n",
    "    def pouch_contents(self):\n",
    "        return self.pouch\n",
    "\n",
    "\n",
    "class Kangaroo(Marsupial):\n",
    "    def __init__(self, x, y):\n",
    "        super().__init__()\n",
    "        self.x = x\n",
    "        self.y = y\n",
    "\n",
    "    def jump(self, fx, fy):\n",
    "        self.x += fx\n",
    "        self.y += fy\n",
    "\n",
    "    def __str__(self):\n",
    "        return f\"I am a Kangaroo located at coordinates ({self.x},{self.y})\"\n",
    "\n",
    "\n",
    "m = Marsupial()\n",
    "m.put_in_pouch(\"apple\")\n",
    "m.put_in_pouch(\"banana\")\n",
    "print(\"The contents in the pouch of Marsupial are: \", m.pouch_contents())\n",
    "\n",
    "\n",
    "k = Kangaroo(0, 0)\n",
    "k.put_in_pouch(\"candy\")\n",
    "k.put_in_pouch(\"carrot\")\n",
    "k.put_in_pouch(\"ball\")\n",
    "\n",
    "print(\"\\nThe contents in the pouch of Kangaroo are: \", k.pouch_contents())\n",
    "\n",
    "k.jump(1, 5)\n",
    "k.jump(3, 3)\n",
    "\n",
    "print(\"\\n\",k)"
   ]
  },
  {
   "cell_type": "markdown",
   "id": "2db76b15",
   "metadata": {},
   "source": [
    "## Question 4"
   ]
  },
  {
   "cell_type": "code",
   "execution_count": 17,
   "id": "0c65c972",
   "metadata": {},
   "outputs": [
    {
     "name": "stdout",
     "output_type": "stream",
     "text": [
      "Enter a positive integer value: 7\n",
      "7\n",
      "22\n",
      "11\n",
      "34\n",
      "17\n",
      "52\n",
      "26\n",
      "13\n",
      "40\n",
      "20\n",
      "10\n",
      "5\n",
      "16\n",
      "8\n",
      "4\n",
      "2\n",
      "1\n"
     ]
    }
   ],
   "source": [
    "def collatz(x):\n",
    "    print(x)\n",
    "    if x == 1:\n",
    "        return\n",
    "    elif x % 2 == 0:\n",
    "        collatz(x//2)\n",
    "    else:\n",
    "        collatz(3*x+1)\n",
    "\n",
    "x = int(input(\"Enter a positive integer value: \"))\n",
    "collatz(x)\n"
   ]
  },
  {
   "cell_type": "markdown",
   "id": "2aa18557",
   "metadata": {},
   "source": [
    "## Question 5"
   ]
  },
  {
   "cell_type": "code",
   "execution_count": 18,
   "id": "92e5e08c",
   "metadata": {},
   "outputs": [
    {
     "name": "stdout",
     "output_type": "stream",
     "text": [
      "Enter a number that you want to convert to binary: 12\n",
      "The binary form of 12 is 1100\n"
     ]
    }
   ],
   "source": [
    "def binary(n):\n",
    "    if n > 1:\n",
    "        return binary(n // 2) + str(n % 2)\n",
    "    else:\n",
    "        return str(n % 2)\n",
    "\n",
    "\n",
    "n = int(input(\"Enter a number that you want to convert to binary: \"))\n",
    "print(\"The binary form of\", n, \"is\", binary(n))\n"
   ]
  },
  {
   "cell_type": "markdown",
   "id": "291262fc",
   "metadata": {},
   "source": [
    "## Question 6"
   ]
  },
  {
   "cell_type": "code",
   "execution_count": 4,
   "id": "86f34723",
   "metadata": {},
   "outputs": [
    {
     "name": "stdout",
     "output_type": "stream",
     "text": [
      "This is the title\n",
      "W3C Mission\n",
      " Principles\n"
     ]
    }
   ],
   "source": [
    "from html.parser import HTMLParser\n",
    "\n",
    "\n",
    "class HeadingParser(HTMLParser):\n",
    "    def __init__(self):\n",
    "        super().__init__()\n",
    "        self.indent = 0\n",
    "        self.headings = []\n",
    "\n",
    "    def handle_starttag(self, tag, attrs):\n",
    "        if tag.startswith('h') and tag[1].isdigit():\n",
    "            self.indent = int(tag[1]) - 1\n",
    "\n",
    "\n",
    "    def handle_endtag(self, tag):\n",
    "        if tag.startswith('h'):\n",
    "            self.indent = 0\n",
    "\n",
    "    def handle_data(self, data):\n",
    "        if data.strip() and self.indent >= 0:\n",
    "            heading = ' ' * self.indent + data.strip()\n",
    "            self.headings.append(heading)\n",
    "\n",
    "    def print_headings(self):\n",
    "        for heading in self.headings:\n",
    "            print(heading)\n",
    "\n",
    "\n",
    "infile = open('w3c.html')\n",
    "content = infile.read()\n",
    "infile.close()\n",
    "\n",
    "hp = HeadingParser()\n",
    "hp.feed(content)\n",
    "hp.print_headings()\n"
   ]
  },
  {
   "cell_type": "markdown",
   "id": "63e01519",
   "metadata": {},
   "source": [
    "## Question 7"
   ]
  },
  {
   "cell_type": "code",
   "execution_count": 3,
   "id": "1af53740",
   "metadata": {},
   "outputs": [
    {
     "name": "stdout",
     "output_type": "stream",
     "text": [
      "      http://reed.cs.depaul.edu/lperkovic/csc242/test1.html\n"
     ]
    }
   ],
   "source": [
    "import requests\n",
    "from bs4 import BeautifulSoup\n",
    "\n",
    "\n",
    "def webdir(url, depth, indent=0):\n",
    "\n",
    "    print(' ' * indent, url)\n",
    "\n",
    "    if depth > 0:\n",
    "        try:\n",
    "            response = requests.get(url)\n",
    "            soup = BeautifulSoup(response.content, 'html.parser')\n",
    "\n",
    "            links = soup.find_all('a')\n",
    "\n",
    "            for link in links:\n",
    "                absolute_url = link.get('href')\n",
    "                if absolute_url and not absolute_url.startswith('#'):\n",
    "                    absolute_url = requests.compat.urljoin(url, absolute_url)\n",
    "                    # Use of Recursive functionality\n",
    "                    webdir(absolute_url, depth - 1, indent + 1)\n",
    "\n",
    "        except requests.exceptions.RequestException:\n",
    "            print('Error: Could not fetch URL', url)\n",
    "            return\n",
    "\n",
    "webdir('http://reed.cs.depaul.edu/lperkovic/csc242/test1.html', 10, 5)\n"
   ]
  },
  {
   "cell_type": "markdown",
   "id": "0a73e35e",
   "metadata": {},
   "source": [
    "## Question 8"
   ]
  },
  {
   "cell_type": "code",
   "execution_count": 24,
   "id": "c781fad2",
   "metadata": {},
   "outputs": [
    {
     "name": "stdout",
     "output_type": "stream",
     "text": [
      "All temperature data: [(24.8,), (28.4,), (27.9,), (27.6,), (4.2,), (8.3,), (15.7,), (10.4,), (13.6,), (20.7,), (27.7,), (22.2,)]\n",
      "\n",
      "\n",
      "All cities: [('Mumbai',), ('London',), ('Cairo',)]\n",
      "\n",
      "Records for India: [('Mumbai', 'India', 'Winter', 24.8, 5.9), ('Mumbai', 'India', 'Spring', 28.4, 16.2), ('Mumbai', 'India', 'Summer', 27.9, 1549.4), ('Mumbai', 'India', 'Fall', 27.6, 346.0)]\n",
      "\n",
      "Fall records: [('Mumbai', 'India', 'Fall', 27.6, 346.0), ('London', 'UK', 'Fall', 10.4, 218.5), ('Cairo', 'Egypt', 'Fall', 22.2, 4.5)]\n",
      "\n",
      "Rainfall records between 200 and 400 mm: [('London', 'UK', 'Fall'), ('London', 'UK', 'Winter'), ('Mumbai', 'India', 'Fall')]\n",
      "\n",
      "In the increasing temperature order,the fall temperature records above 20 degrees were: [('Cairo', 'Egypt'), ('Mumbai', 'India')]\n",
      "\n",
      "Total annual rainfall in Cairo was : 27.6\n",
      "\n",
      "The Total rainfall for each season was : [('Fall', 569.0), ('Spring', 192.29999999999998), ('Summer', 1706.5), ('Winter', 230.1)]\n"
     ]
    }
   ],
   "source": [
    "import sqlite3\n",
    "\n",
    "# create a connection to the database\n",
    "conn = sqlite3.connect('climate.db')\n",
    "\n",
    "import sqlite3\n",
    "\n",
    "# connect to database\n",
    "conn = sqlite3.connect('climate.db')\n",
    "c = conn.cursor()\n",
    "\n",
    "# create climate table\n",
    "# c.execute('''CREATE TABLE climate\n",
    "#              (City text, Country text, Season text, Temperature real, Rainfall real)''')\n",
    "\n",
    "# insert data into climate table\n",
    "# c.execute(\"INSERT INTO climate VALUES ('Mumbai', 'India', 'Winter', 24.8, 5.9)\")\n",
    "# c.execute(\"INSERT INTO climate VALUES ('Mumbai', 'India', 'Spring', 28.4, 16.2)\")\n",
    "# c.execute(\"INSERT INTO climate VALUES ('Mumbai', 'India', 'Summer', 27.9, 1549.4)\")\n",
    "# c.execute(\"INSERT INTO climate VALUES ('Mumbai', 'India', 'Fall', 27.6, 346.0)\")\n",
    "# c.execute(\"INSERT INTO climate VALUES ('London', 'UK', 'Winter', 4.2, 207.7)\")\n",
    "# c.execute(\"INSERT INTO climate VALUES ('London', 'UK', 'Spring', 8.3, 169.6)\")\n",
    "# c.execute(\"INSERT INTO climate VALUES ('London', 'UK', 'Summer', 15.7, 157.0)\")\n",
    "# c.execute(\"INSERT INTO climate VALUES ('London', 'UK', 'Fall', 10.4, 218.5)\")\n",
    "# c.execute(\"INSERT INTO climate VALUES ('Cairo', 'Egypt', 'Winter', 13.6, 16.5)\")\n",
    "# c.execute(\"INSERT INTO climate VALUES ('Cairo', 'Egypt', 'Spring', 20.7, 6.5)\")\n",
    "# c.execute(\"INSERT INTO climate VALUES ('Cairo', 'Egypt', 'Summer', 27.7, 0.1)\")\n",
    "# c.execute(\"INSERT INTO climate VALUES ('Cairo', 'Egypt', 'Fall', 22.2, 4.5)\")\n",
    "\n",
    "# commit changes and close connection\n",
    "conn.commit()\n",
    "conn.close()\n",
    "\n",
    "# a) All the temperature data\n",
    "cur.execute(\"SELECT Temperature FROM climate\")\n",
    "all_temps = cur.fetchall()\n",
    "print(\"All temperature data:\", all_temps)\n",
    "\n",
    "# b) All the cities without repetition\n",
    "cur.execute(\"SELECT DISTINCT City FROM climate\")\n",
    "all_cities = cur.fetchall()\n",
    "print(\"\\n\\nAll cities:\", all_cities)\n",
    "\n",
    "# c) All the records for India\n",
    "cur.execute(\"SELECT * FROM climate WHERE Country='India'\")\n",
    "india_records = cur.fetchall()\n",
    "print(\"\\nRecords for India:\", india_records)\n",
    "\n",
    "# d) All the records Fall season\n",
    "cur.execute(\"SELECT * FROM climate WHERE Season='Fall'\")\n",
    "fall_records = cur.fetchall()\n",
    "print(\"\\nFall records:\", fall_records)\n",
    "\n",
    "# e) The city, country, and season for which the average rainfall is between 200 and 400 millimeters\n",
    "cur.execute(\"SELECT City, Country, Season FROM climate GROUP BY City, Country, Season HAVING AVG(Rainfall) BETWEEN 200 AND 400\")\n",
    "rainfall_records = cur.fetchall()\n",
    "print(\"\\nRainfall records between 200 and 400 mm:\", rainfall_records)\n",
    "\n",
    "# f) The city and country for which the average Fall temperature is above 20 degrees, in increasing temperature order\n",
    "cur.execute(\"SELECT City, Country FROM climate WHERE Season='Fall' GROUP BY City, Country HAVING AVG(Temperature) > 20 ORDER BY AVG(Temperature) ASC\")\n",
    "fall_temp_records = cur.fetchall()\n",
    "print(\"\\nIn the increasing temperature order,the fall temperature records above 20 degrees were:\", fall_temp_records)\n",
    "\n",
    "# g) The total annual rainfall for Cairo\n",
    "cur.execute(\"SELECT SUM(Rainfall) FROM climate WHERE City='Cairo'\")\n",
    "cairo_rainfall = cur.fetchone()\n",
    "print(\"\\nTotal annual rainfall in Cairo was :\", cairo_rainfall[0])\n",
    "\n",
    "# h) The total rainfall for each season\n",
    "cur.execute(\"SELECT Season, SUM(Rainfall) FROM climate GROUP BY Season\")\n",
    "season_rainfall = cur.fetchall()\n",
    "print(\"\\nThe Total rainfall for each season was :\", season_rainfall)\n",
    "\n",
    "# close the connection\n",
    "conn.close()\n"
   ]
  },
  {
   "cell_type": "markdown",
   "id": "87ce79f3",
   "metadata": {},
   "source": [
    "## Question 9"
   ]
  },
  {
   "cell_type": "code",
   "execution_count": 28,
   "id": "0202205a",
   "metadata": {},
   "outputs": [
    {
     "name": "stdout",
     "output_type": "stream",
     "text": [
      "\n",
      " ['THE', 'QUICK', 'BROWN', 'FOX', 'JUMPS', 'OVER', 'THE', 'LAZY', 'DOG']\n",
      "\n",
      " ['the', 'quick', 'brown', 'fox', 'jumps', 'over', 'the', 'lazy', 'dog']\n",
      "\n",
      " [3, 5, 5, 3, 5, 4, 3, 4, 3]\n",
      "\n",
      " [['THE', 'the', 3], ['QUICK', 'quick', 5], ['BROWN', 'brown', 5], ['FOX', 'fox', 3], ['JUMPS', 'jumps', 5], ['OVER', 'over', 4], ['THE', 'the', 3], ['LAZY', 'lazy', 4], ['DOG', 'dog', 3]]\n",
      "\n",
      " ['quick', 'brown', 'jumps', 'over', 'lazy']\n"
     ]
    }
   ],
   "source": [
    "words = ['The', 'quick', 'brown', 'fox', 'jumps', 'over', 'the', 'lazy', 'dog']\n",
    "\n",
    "# The list of words in uppercase\n",
    "words_upper = [word.upper() for word in words]\n",
    "print(\"\\n\",words_upper)\n",
    "\n",
    "# The list of words in lowercase\n",
    "words_lower = [word.lower() for word in words]\n",
    "print(\"\\n\",words_lower)\n",
    "\n",
    "# The list of lengths of words\n",
    "word_length = [len(word) for word in words]\n",
    "print(\"\\n\",word_length)\n",
    "\n",
    "# The list of lists with word in uppercase, lowercase, and length\n",
    "words_info = [[word.upper(), word.lower(), len(word)] for word in words]\n",
    "print(\"\\n\",words_info)\n",
    "\n",
    "# The list of words containing 4 or more characters\n",
    "words_long = [word for word in words if len(word) >= 4]\n",
    "print(\"\\n\",words_long)\n"
   ]
  }
 ],
 "metadata": {
  "kernelspec": {
   "display_name": "Python 3 (ipykernel)",
   "language": "python",
   "name": "python3"
  },
  "language_info": {
   "codemirror_mode": {
    "name": "ipython",
    "version": 3
   },
   "file_extension": ".py",
   "mimetype": "text/x-python",
   "name": "python",
   "nbconvert_exporter": "python",
   "pygments_lexer": "ipython3",
   "version": "3.9.13"
  }
 },
 "nbformat": 4,
 "nbformat_minor": 5
}
